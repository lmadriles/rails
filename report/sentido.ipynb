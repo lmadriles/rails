{
 "cells": [
  {
   "cell_type": "code",
   "execution_count": null,
   "metadata": {},
   "outputs": [],
   "source": [
    "# Tentativa de reformular graph_utils, colocando necessidade de segregar a malha ou não, e identificação de sentido ou não.\n",
    "import pandas as pd"
   ]
  },
  {
   "cell_type": "code",
   "execution_count": 5,
   "metadata": {},
   "outputs": [
    {
     "name": "stdout",
     "output_type": "stream",
     "text": [
      "Hash SHA-256: 7cadab457ad8d811f134612436daaa5e5914b20dc2502865f714035b0f267680\n"
     ]
    }
   ],
   "source": [
    "import hashlib\n",
    "\n",
    "data = \"lucas\"\n",
    "data_bytes = data.encode(\"utf-8\") # converter pra byte\n",
    "hash_object = hashlib.sha256(data_bytes)\n",
    "hash_hex = hash_object.hexdigest() # hash em formato hexadecimal\n",
    "print(\"Hash SHA-256:\", hash_hex)\n",
    "# hashlib.sha256(\"Madriles\".encode(\"utf-8\")).hexdigest()"
   ]
  },
  {
   "cell_type": "code",
   "execution_count": null,
   "metadata": {},
   "outputs": [],
   "source": [
    "def get_projection(main_string, path):\n",
    "    path_set = set(path)\n",
    "    main_list = main_string.split()\n",
    "    result = []\n",
    "    prev = None\n",
    "\n",
    "    for i, station in enumerate(main_list):\n",
    "        if station in path_set:\n",
    "            if prev is not None and (i == 0 or main_list[i-1] != prev):\n",
    "                result.append(\"|\")\n",
    "            result.append(station)\n",
    "            prev = station\n",
    "\n",
    "    return result\n",
    "\n",
    "\n",
    "def find_edge(G, a, b, malha):\n",
    "    try:\n",
    "        if G.edges[(a,b)]['ferrovia']==malha:\n",
    "            return G.edges[(a,b)]['weight']\n",
    "        else:\n",
    "            return 0\n",
    "    except:\n",
    "        return 0\n",
    "\n",
    "def find_tku(G, main_string, path, tu, malha):\n",
    "    km = 0\n",
    "    stations = get_projection(main_string, path)\n",
    "    for i in range(len(stations)-1):\n",
    "        if find_edge(G,stations[i], stations[i+1], malha) is None:\n",
    "            print(stations[i], stations[i+1], malha)\n",
    "\n",
    "        km += find_edge(G,stations[i], stations[i+1], malha)\n",
    "\n",
    "    tku = km * tu\n",
    "    return tku"
   ]
  }
 ],
 "metadata": {
  "kernelspec": {
   "display_name": "rails-lDGqQojT-py3.12",
   "language": "python",
   "name": "python3"
  },
  "language_info": {
   "codemirror_mode": {
    "name": "ipython",
    "version": 3
   },
   "file_extension": ".py",
   "mimetype": "text/x-python",
   "name": "python",
   "nbconvert_exporter": "python",
   "pygments_lexer": "ipython3",
   "version": "3.12.4"
  }
 },
 "nbformat": 4,
 "nbformat_minor": 2
}
